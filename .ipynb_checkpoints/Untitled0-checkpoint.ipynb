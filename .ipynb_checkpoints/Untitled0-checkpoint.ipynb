{
 "metadata": {
  "name": "",
  "signature": "sha256:fecfd6f2658a39675c5cd2e0adb2cf6700023821f5c4a470cde02b6b025397b4"
 },
 "nbformat": 3,
 "nbformat_minor": 0,
 "worksheets": []
}